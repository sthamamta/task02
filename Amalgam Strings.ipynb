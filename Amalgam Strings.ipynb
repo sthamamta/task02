{
 "cells": [
  {
   "cell_type": "code",
   "execution_count": 4,
   "metadata": {},
   "outputs": [
    {
     "name": "stdout",
     "output_type": "stream",
     "text": [
      "Enter a string  mamata\n",
      "Enter a string  atamam\n",
      "['a', 't', 'a', 'm', 'a', 'm']\n",
      "given input are amalgam\n"
     ]
    }
   ],
   "source": [
    "s1input= (input(\"Enter a string  \"))\n",
    "s2input= (input(\"Enter a string  \"))\n",
    "lst=list(s2input)\n",
    "count=0\n",
    "for char in s1input:\n",
    "    for i in lst: \n",
    "        if (i==char):\n",
    "            lst.remove(i)\n",
    "            count+=1\n",
    "if count==len(s1input):\n",
    "    print('given input are amalgam')\n",
    "else:\n",
    "    print('given input are not amalgam')"
   ]
  },
  {
   "cell_type": "code",
   "execution_count": null,
   "metadata": {},
   "outputs": [],
   "source": []
  }
 ],
 "metadata": {
  "kernelspec": {
   "display_name": "Python 3",
   "language": "python",
   "name": "python3"
  },
  "language_info": {
   "codemirror_mode": {
    "name": "ipython",
    "version": 3
   },
   "file_extension": ".py",
   "mimetype": "text/x-python",
   "name": "python",
   "nbconvert_exporter": "python",
   "pygments_lexer": "ipython3",
   "version": "3.6.9"
  }
 },
 "nbformat": 4,
 "nbformat_minor": 4
}
