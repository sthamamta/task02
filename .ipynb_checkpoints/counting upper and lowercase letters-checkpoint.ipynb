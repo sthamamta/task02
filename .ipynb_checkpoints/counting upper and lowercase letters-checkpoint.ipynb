{
 "cells": [
  {
   "cell_type": "markdown",
   "metadata": {},
   "source": [
    "    # Counting Uppercase and Lowercase letters"
   ]
  },
  {
   "cell_type": "code",
   "execution_count": 1,
   "metadata": {},
   "outputs": [
    {
     "name": "stdout",
     "output_type": "stream",
     "text": [
      "Enter a string  Mamata SHrestha 2324\n",
      "Uppercase letters 3\n",
      "Lowercase letters 11\n"
     ]
    }
   ],
   "source": [
    "sinput= (input(\"Enter a string  \"))\n",
    "ucount=0\n",
    "lcount=0\n",
    "for char in sinput:\n",
    "    val= int(ord(char))\n",
    "    if val>=97 and val <= 122:\n",
    "        lcount+=1\n",
    "    elif (val >= 65 and val <= 90):\n",
    "        ucount+=1\n",
    "print('Uppercase letters {}'.format(ucount))\n",
    "print('Lowercase letters {}'.format(lcount))"
   ]
  },
  {
   "cell_type": "code",
   "execution_count": null,
   "metadata": {},
   "outputs": [],
   "source": []
  },
  {
   "cell_type": "code",
   "execution_count": null,
   "metadata": {},
   "outputs": [],
   "source": []
  },
  {
   "cell_type": "code",
   "execution_count": null,
   "metadata": {},
   "outputs": [],
   "source": []
  },
  {
   "cell_type": "code",
   "execution_count": null,
   "metadata": {},
   "outputs": [],
   "source": []
  }
 ],
 "metadata": {
  "kernelspec": {
   "display_name": "Python 3",
   "language": "python",
   "name": "python3"
  },
  "language_info": {
   "codemirror_mode": {
    "name": "ipython",
    "version": 3
   },
   "file_extension": ".py",
   "mimetype": "text/x-python",
   "name": "python",
   "nbconvert_exporter": "python",
   "pygments_lexer": "ipython3",
   "version": "3.6.9"
  }
 },
 "nbformat": 4,
 "nbformat_minor": 4
}
