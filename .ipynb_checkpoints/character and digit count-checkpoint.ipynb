{
 "cells": [
  {
   "cell_type": "markdown",
   "metadata": {},
   "source": [
    "# Counting characters and digits in a sentence"
   ]
  },
  {
   "cell_type": "code",
   "execution_count": 22,
   "metadata": {},
   "outputs": [
    {
     "name": "stdout",
     "output_type": "stream",
     "text": [
      "Enter a string  i am so happy today!\n",
      "total digits 0\n",
      "total characters 15\n"
     ]
    }
   ],
   "source": [
    "sinput= (input(\"Enter a string  \"))\n",
    "dcount=0\n",
    "ccount=0\n",
    "for char in sinput:\n",
    "    val= int(ord(char))\n",
    "    if val>= 48 and val<=57:\n",
    "        dcount+=1\n",
    "    elif ((val>=97 and val <= 122) or (val >= 65 and val <= 90)):\n",
    "        ccount+=1\n",
    "print('total digits {}'.format(dcount))\n",
    "print('total characters {}'.format(ccount))"
   ]
  },
  {
   "cell_type": "code",
   "execution_count": null,
   "metadata": {},
   "outputs": [],
   "source": []
  },
  {
   "cell_type": "code",
   "execution_count": null,
   "metadata": {},
   "outputs": [],
   "source": []
  },
  {
   "cell_type": "code",
   "execution_count": null,
   "metadata": {},
   "outputs": [],
   "source": []
  }
 ],
 "metadata": {
  "kernelspec": {
   "display_name": "Python 3",
   "language": "python",
   "name": "python3"
  },
  "language_info": {
   "codemirror_mode": {
    "name": "ipython",
    "version": 3
   },
   "file_extension": ".py",
   "mimetype": "text/x-python",
   "name": "python",
   "nbconvert_exporter": "python",
   "pygments_lexer": "ipython3",
   "version": "3.6.9"
  }
 },
 "nbformat": 4,
 "nbformat_minor": 4
}
